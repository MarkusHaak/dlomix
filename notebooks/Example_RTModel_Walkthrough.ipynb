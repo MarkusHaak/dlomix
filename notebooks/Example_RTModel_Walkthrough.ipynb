{
 "cells": [
  {
   "cell_type": "markdown",
   "metadata": {},
   "source": [
    "# Retention Time Preidiction "
   ]
  },
  {
   "cell_type": "markdown",
   "metadata": {},
   "source": [
    "This notebook presents a short walkthrough the process of reading a dataset and training a model for retention time prediction. The dataset is an example dataset extracted from a ProteomTools dataset generated in the **Chair of Bioanalytics** at the **Technical University of Munich**.\n",
    "\n",
    "The framework being used is a custom wrapper on top of Keras/TensorFlow. The working name of the package is for now `dlpro`."
   ]
  },
  {
   "cell_type": "markdown",
   "metadata": {},
   "source": [
    "The available modules in the framework are as follows:"
   ]
  },
  {
   "cell_type": "code",
   "execution_count": 35,
   "metadata": {},
   "outputs": [
    {
     "name": "stdout",
     "output_type": "stream",
     "text": [
      "['constants', 'data', 'eval', 'layers', 'models', 'pipelines', 'reports', 'utils']\n"
     ]
    }
   ],
   "source": [
    "import pandas as pd\n",
    "import numpy as np\n",
    "\n",
    "import dlpro\n",
    "from dlpro import constants, data, eval, layers, models, pipelines, reports, utils\n",
    "print([x for x in dir(dlpro) if not x.startswith(\"_\")])"
   ]
  },
  {
   "cell_type": "markdown",
   "metadata": {},
   "source": [
    "- `constants`: constants to be used in the framework (e.g. Aminoacid alphabet mapping)\n",
    "- `data`:  classes for representing dataset, wrappers around TensorFlow Dataset\n",
    "- `eval`: custom evaluation metrics implemented in Keras/TF to work as `metrics` for model training\n",
    "- `layers`: custom layer implementation required for the different models\n",
    "- `models`: different model implementations for Retention Time Prediction\n",
    "- `pipelines`: complete pipelines to run a task (e.g. Retention Time prediction)\n",
    "- `utils`: helper modules\n",
    "\n",
    "**Note**: reports and pipelines are work-in-progress, some funtionalities are not complete."
   ]
  },
  {
   "cell_type": "markdown",
   "metadata": {},
   "source": [
    "## 1. Load Data\n",
    "\n",
    "We can import the dataset class and create an object of type `RetentionTimeDataset`. This object wraps around TensorFlow dataset objects for training+validation or for testing. This can be specified by the arguments `val_ratio` and `test`."
   ]
  },
  {
   "cell_type": "code",
   "execution_count": 3,
   "metadata": {},
   "outputs": [],
   "source": [
    "from dlpro.data.RetentionTimeDataset import RetentionTimeDataset"
   ]
  },
  {
   "cell_type": "code",
   "execution_count": 5,
   "metadata": {},
   "outputs": [],
   "source": [
    "TRAIN_DATAPATH = '../example_dataset/proteomTools_train_val.csv'\n",
    "\n",
    "rtdata = RetentionTimeDataset(data_source=TRAIN_DATAPATH,\n",
    "                              pad_length=30, batch_size=64, val_ratio=0.2, test=False)"
   ]
  },
  {
   "cell_type": "markdown",
   "metadata": {},
   "source": [
    "Now we have an RT dataset that can be used directly with standard or custom `Keras` models. This wrapper contains the splits we chose when creating it. In our case, they are training and validation splits. To get the TF Dataset, we call the attributes `.train_data` and `.val_data`."
   ]
  },
  {
   "cell_type": "code",
   "execution_count": 6,
   "metadata": {},
   "outputs": [
    {
     "data": {
      "text/plain": [
       "424"
      ]
     },
     "execution_count": 6,
     "metadata": {},
     "output_type": "execute_result"
    }
   ],
   "source": [
    "len(rtdata.train_data)"
   ]
  },
  {
   "cell_type": "code",
   "execution_count": 7,
   "metadata": {},
   "outputs": [
    {
     "data": {
      "text/plain": [
       "106"
      ]
     },
     "execution_count": 7,
     "metadata": {},
     "output_type": "execute_result"
    }
   ],
   "source": [
    "len(rtdata.val_data)"
   ]
  },
  {
   "cell_type": "markdown",
   "metadata": {},
   "source": [
    "## 2. Model\n",
    "\n",
    "We can now create the model. We will use a simple Prediction with a conv1D encoder. It has the default working arguments, but most of the parameters can be customized.\n",
    "\n",
    "**Note**: Important is to ensure that the padding length used for the dataset object is equal to the sequence length passed to the model."
   ]
  },
  {
   "cell_type": "code",
   "execution_count": 8,
   "metadata": {},
   "outputs": [],
   "source": [
    "from dlpro.models.base import RetentionTimePredictor"
   ]
  },
  {
   "cell_type": "code",
   "execution_count": 9,
   "metadata": {},
   "outputs": [],
   "source": [
    "model = RetentionTimePredictor(seq_length=30)"
   ]
  },
  {
   "cell_type": "markdown",
   "metadata": {},
   "source": [
    "## 3. Training\n",
    "\n",
    "We can then train the model like a standard Keras model. The training parameters here are from Prosit, but other optimizer parameters can be used.  "
   ]
  },
  {
   "cell_type": "code",
   "execution_count": 10,
   "metadata": {},
   "outputs": [],
   "source": [
    "#imports\n",
    "\n",
    "import tensorflow as tf\n",
    "from dlpro.eval.rt_eval import TimeDeltaMetric"
   ]
  },
  {
   "cell_type": "code",
   "execution_count": 11,
   "metadata": {},
   "outputs": [],
   "source": [
    "# create the optimizer object\n",
    "optimizer = tf.keras.optimizers.Adam(lr=0.0001,decay=1e-7)\n",
    "\n",
    "# compile the model  with the optimizer and the metrics we want to use, we can add our customer delta95 metric\n",
    "\n",
    "model.compile(optimizer=optimizer, \n",
    "              loss='mse',\n",
    "              metrics=['mean_absolute_error', TimeDeltaMetric(rtdata.data_mean, rtdata.data_std)])"
   ]
  },
  {
   "cell_type": "markdown",
   "metadata": {},
   "source": [
    "We store the result of training so that we can explore the metrics and the losses later. We specify the number of epochs for training and pass the training and validation data as previously described."
   ]
  },
  {
   "cell_type": "code",
   "execution_count": 12,
   "metadata": {
    "scrolled": true
   },
   "outputs": [
    {
     "name": "stdout",
     "output_type": "stream",
     "text": [
      "Epoch 1/50\n",
      "424/424 [==============================] - 5s 7ms/step - loss: 0.5513 - mean_absolute_error: 0.5627 - timedelta: 50.7857 - val_loss: 0.0738 - val_mean_absolute_error: 0.1978 - val_timedelta: 17.5724\n",
      "Epoch 2/50\n",
      "424/424 [==============================] - 2s 6ms/step - loss: 0.0652 - mean_absolute_error: 0.1884 - timedelta: 17.4061 - val_loss: 0.0742 - val_mean_absolute_error: 0.1968 - val_timedelta: 18.4900\n",
      "Epoch 3/50\n",
      "424/424 [==============================] - 2s 6ms/step - loss: 0.0558 - mean_absolute_error: 0.1721 - timedelta: 15.8088 - val_loss: 0.0669 - val_mean_absolute_error: 0.1867 - val_timedelta: 17.5804\n",
      "Epoch 4/50\n",
      "424/424 [==============================] - 2s 6ms/step - loss: 0.0499 - mean_absolute_error: 0.1613 - timedelta: 14.9126 - val_loss: 0.0583 - val_mean_absolute_error: 0.1726 - val_timedelta: 16.3127\n",
      "Epoch 5/50\n",
      "424/424 [==============================] - 2s 6ms/step - loss: 0.0454 - mean_absolute_error: 0.1526 - timedelta: 13.9423 - val_loss: 0.0533 - val_mean_absolute_error: 0.1644 - val_timedelta: 15.6820\n",
      "Epoch 6/50\n",
      "424/424 [==============================] - 2s 6ms/step - loss: 0.0420 - mean_absolute_error: 0.1457 - timedelta: 13.1753 - val_loss: 0.0507 - val_mean_absolute_error: 0.1603 - val_timedelta: 15.4982\n",
      "Epoch 7/50\n",
      "424/424 [==============================] - 2s 6ms/step - loss: 0.0393 - mean_absolute_error: 0.1397 - timedelta: 12.7012 - val_loss: 0.0486 - val_mean_absolute_error: 0.1567 - val_timedelta: 15.3089\n",
      "Epoch 8/50\n",
      "424/424 [==============================] - 2s 6ms/step - loss: 0.0371 - mean_absolute_error: 0.1350 - timedelta: 12.3245 - val_loss: 0.0480 - val_mean_absolute_error: 0.1560 - val_timedelta: 15.2938\n",
      "Epoch 9/50\n",
      "424/424 [==============================] - 2s 6ms/step - loss: 0.0353 - mean_absolute_error: 0.1309 - timedelta: 11.9100 - val_loss: 0.0455 - val_mean_absolute_error: 0.1506 - val_timedelta: 14.7355\n",
      "Epoch 10/50\n",
      "424/424 [==============================] - 2s 6ms/step - loss: 0.0337 - mean_absolute_error: 0.1271 - timedelta: 11.5471 - val_loss: 0.0446 - val_mean_absolute_error: 0.1489 - val_timedelta: 14.6097\n",
      "Epoch 11/50\n",
      "424/424 [==============================] - 2s 6ms/step - loss: 0.0323 - mean_absolute_error: 0.1239 - timedelta: 11.1845 - val_loss: 0.0429 - val_mean_absolute_error: 0.1452 - val_timedelta: 14.3280\n",
      "Epoch 12/50\n",
      "424/424 [==============================] - 2s 6ms/step - loss: 0.0311 - mean_absolute_error: 0.1208 - timedelta: 10.8403 - val_loss: 0.0424 - val_mean_absolute_error: 0.1442 - val_timedelta: 14.3584\n",
      "Epoch 13/50\n",
      "424/424 [==============================] - 2s 6ms/step - loss: 0.0300 - mean_absolute_error: 0.1184 - timedelta: 10.5370 - val_loss: 0.0417 - val_mean_absolute_error: 0.1426 - val_timedelta: 14.2985\n",
      "Epoch 14/50\n",
      "424/424 [==============================] - 2s 6ms/step - loss: 0.0291 - mean_absolute_error: 0.1163 - timedelta: 10.3362 - val_loss: 0.0404 - val_mean_absolute_error: 0.1396 - val_timedelta: 14.0495\n",
      "Epoch 15/50\n",
      "424/424 [==============================] - 2s 6ms/step - loss: 0.0282 - mean_absolute_error: 0.1141 - timedelta: 10.0503 - val_loss: 0.0397 - val_mean_absolute_error: 0.1379 - val_timedelta: 13.9503\n",
      "Epoch 16/50\n",
      "424/424 [==============================] - 2s 6ms/step - loss: 0.0275 - mean_absolute_error: 0.1122 - timedelta: 9.8712 - val_loss: 0.0395 - val_mean_absolute_error: 0.1374 - val_timedelta: 13.9425\n",
      "Epoch 17/50\n",
      "424/424 [==============================] - 2s 6ms/step - loss: 0.0267 - mean_absolute_error: 0.1105 - timedelta: 9.7273 - val_loss: 0.0389 - val_mean_absolute_error: 0.1360 - val_timedelta: 13.8634\n",
      "Epoch 18/50\n",
      "424/424 [==============================] - 2s 6ms/step - loss: 0.0260 - mean_absolute_error: 0.1089 - timedelta: 9.5769 - val_loss: 0.0385 - val_mean_absolute_error: 0.1351 - val_timedelta: 13.7900\n",
      "Epoch 19/50\n",
      "424/424 [==============================] - 2s 6ms/step - loss: 0.0254 - mean_absolute_error: 0.1072 - timedelta: 9.3980 - val_loss: 0.0379 - val_mean_absolute_error: 0.1336 - val_timedelta: 13.6108\n",
      "Epoch 20/50\n",
      "424/424 [==============================] - 2s 6ms/step - loss: 0.0247 - mean_absolute_error: 0.1057 - timedelta: 9.2744 - val_loss: 0.0371 - val_mean_absolute_error: 0.1316 - val_timedelta: 13.3746\n",
      "Epoch 21/50\n",
      "424/424 [==============================] - 2s 6ms/step - loss: 0.0240 - mean_absolute_error: 0.1040 - timedelta: 9.0978 - val_loss: 0.0369 - val_mean_absolute_error: 0.1312 - val_timedelta: 13.2918\n",
      "Epoch 22/50\n",
      "424/424 [==============================] - 2s 6ms/step - loss: 0.0234 - mean_absolute_error: 0.1025 - timedelta: 8.9638 - val_loss: 0.0368 - val_mean_absolute_error: 0.1309 - val_timedelta: 13.3141\n",
      "Epoch 23/50\n",
      "424/424 [==============================] - 2s 6ms/step - loss: 0.0228 - mean_absolute_error: 0.1011 - timedelta: 8.8141 - val_loss: 0.0363 - val_mean_absolute_error: 0.1297 - val_timedelta: 13.2042\n",
      "Epoch 24/50\n",
      "424/424 [==============================] - 2s 6ms/step - loss: 0.0222 - mean_absolute_error: 0.0996 - timedelta: 8.6795 - val_loss: 0.0362 - val_mean_absolute_error: 0.1293 - val_timedelta: 13.1391\n",
      "Epoch 25/50\n",
      "424/424 [==============================] - 2s 6ms/step - loss: 0.0216 - mean_absolute_error: 0.0981 - timedelta: 8.5581 - val_loss: 0.0358 - val_mean_absolute_error: 0.1286 - val_timedelta: 13.0890\n",
      "Epoch 26/50\n",
      "424/424 [==============================] - 2s 6ms/step - loss: 0.0210 - mean_absolute_error: 0.0967 - timedelta: 8.4260 - val_loss: 0.0357 - val_mean_absolute_error: 0.1285 - val_timedelta: 13.1116\n",
      "Epoch 27/50\n",
      "424/424 [==============================] - 2s 6ms/step - loss: 0.0205 - mean_absolute_error: 0.0954 - timedelta: 8.3160 - val_loss: 0.0360 - val_mean_absolute_error: 0.1294 - val_timedelta: 13.2417\n",
      "Epoch 28/50\n",
      "424/424 [==============================] - 2s 6ms/step - loss: 0.0200 - mean_absolute_error: 0.0944 - timedelta: 8.2043 - val_loss: 0.0366 - val_mean_absolute_error: 0.1314 - val_timedelta: 13.5226\n",
      "Epoch 29/50\n",
      "424/424 [==============================] - 2s 6ms/step - loss: 0.0197 - mean_absolute_error: 0.0940 - timedelta: 8.1665 - val_loss: 0.0373 - val_mean_absolute_error: 0.1339 - val_timedelta: 13.8548\n",
      "Epoch 30/50\n",
      "424/424 [==============================] - 2s 6ms/step - loss: 0.0200 - mean_absolute_error: 0.0957 - timedelta: 8.4056 - val_loss: 0.0309 - val_mean_absolute_error: 0.1164 - val_timedelta: 10.0469\n",
      "Epoch 31/50\n",
      "424/424 [==============================] - 2s 6ms/step - loss: 0.0203 - mean_absolute_error: 0.0972 - timedelta: 9.2695 - val_loss: 0.0311 - val_mean_absolute_error: 0.1173 - val_timedelta: 9.6019\n",
      "Epoch 32/50\n",
      "424/424 [==============================] - 2s 6ms/step - loss: 0.0192 - mean_absolute_error: 0.0931 - timedelta: 8.6936 - val_loss: 0.0315 - val_mean_absolute_error: 0.1185 - val_timedelta: 9.7772\n",
      "Epoch 33/50\n",
      "424/424 [==============================] - 2s 6ms/step - loss: 0.0188 - mean_absolute_error: 0.0922 - timedelta: 8.4316 - val_loss: 0.0315 - val_mean_absolute_error: 0.1186 - val_timedelta: 9.8339\n",
      "Epoch 34/50\n",
      "424/424 [==============================] - 2s 6ms/step - loss: 0.0181 - mean_absolute_error: 0.0902 - timedelta: 8.1756 - val_loss: 0.0314 - val_mean_absolute_error: 0.1181 - val_timedelta: 9.8498\n",
      "Epoch 35/50\n",
      "424/424 [==============================] - 2s 6ms/step - loss: 0.0174 - mean_absolute_error: 0.0881 - timedelta: 7.9322 - val_loss: 0.0315 - val_mean_absolute_error: 0.1182 - val_timedelta: 9.8480\n",
      "Epoch 36/50\n",
      "424/424 [==============================] - 2s 6ms/step - loss: 0.0168 - mean_absolute_error: 0.0863 - timedelta: 7.7475 - val_loss: 0.0314 - val_mean_absolute_error: 0.1179 - val_timedelta: 9.8619\n",
      "Epoch 37/50\n",
      "424/424 [==============================] - 2s 6ms/step - loss: 0.0161 - mean_absolute_error: 0.0844 - timedelta: 7.5737 - val_loss: 0.0315 - val_mean_absolute_error: 0.1184 - val_timedelta: 9.9247\n",
      "Epoch 38/50\n",
      "424/424 [==============================] - 2s 5ms/step - loss: 0.0155 - mean_absolute_error: 0.0825 - timedelta: 7.4205 - val_loss: 0.0316 - val_mean_absolute_error: 0.1187 - val_timedelta: 10.0211\n",
      "Epoch 39/50\n",
      "424/424 [==============================] - 2s 6ms/step - loss: 0.0149 - mean_absolute_error: 0.0806 - timedelta: 7.2889 - val_loss: 0.0315 - val_mean_absolute_error: 0.1182 - val_timedelta: 10.0619\n",
      "Epoch 40/50\n",
      "424/424 [==============================] - 2s 6ms/step - loss: 0.0143 - mean_absolute_error: 0.0787 - timedelta: 7.1675 - val_loss: 0.0310 - val_mean_absolute_error: 0.1163 - val_timedelta: 10.1066\n",
      "Epoch 41/50\n",
      "424/424 [==============================] - 2s 6ms/step - loss: 0.0136 - mean_absolute_error: 0.0766 - timedelta: 6.9878 - val_loss: 0.0309 - val_mean_absolute_error: 0.1157 - val_timedelta: 10.2406\n",
      "Epoch 42/50\n",
      "424/424 [==============================] - 2s 6ms/step - loss: 0.0130 - mean_absolute_error: 0.0747 - timedelta: 6.8144 - val_loss: 0.0311 - val_mean_absolute_error: 0.1162 - val_timedelta: 10.3120\n",
      "Epoch 43/50\n",
      "424/424 [==============================] - 2s 6ms/step - loss: 0.0125 - mean_absolute_error: 0.0731 - timedelta: 6.6667 - val_loss: 0.0314 - val_mean_absolute_error: 0.1169 - val_timedelta: 10.4456\n",
      "Epoch 44/50\n",
      "424/424 [==============================] - 2s 6ms/step - loss: 0.0119 - mean_absolute_error: 0.0715 - timedelta: 6.5599 - val_loss: 0.0316 - val_mean_absolute_error: 0.1175 - val_timedelta: 10.5287\n",
      "Epoch 45/50\n",
      "424/424 [==============================] - 2s 6ms/step - loss: 0.0114 - mean_absolute_error: 0.0700 - timedelta: 6.4666 - val_loss: 0.0319 - val_mean_absolute_error: 0.1183 - val_timedelta: 10.5739\n",
      "Epoch 46/50\n",
      "424/424 [==============================] - 2s 6ms/step - loss: 0.0109 - mean_absolute_error: 0.0684 - timedelta: 6.3523 - val_loss: 0.0321 - val_mean_absolute_error: 0.1187 - val_timedelta: 10.6592\n",
      "Epoch 47/50\n",
      "424/424 [==============================] - 2s 6ms/step - loss: 0.0104 - mean_absolute_error: 0.0669 - timedelta: 6.2426 - val_loss: 0.0325 - val_mean_absolute_error: 0.1196 - val_timedelta: 10.7323\n",
      "Epoch 48/50\n",
      "424/424 [==============================] - 2s 6ms/step - loss: 0.0099 - mean_absolute_error: 0.0653 - timedelta: 6.1125 - val_loss: 0.0328 - val_mean_absolute_error: 0.1206 - val_timedelta: 10.8391\n",
      "Epoch 49/50\n",
      "424/424 [==============================] - 2s 6ms/step - loss: 0.0094 - mean_absolute_error: 0.0639 - timedelta: 5.9973 - val_loss: 0.0332 - val_mean_absolute_error: 0.1214 - val_timedelta: 10.8999\n",
      "Epoch 50/50\n",
      "424/424 [==============================] - 2s 6ms/step - loss: 0.0090 - mean_absolute_error: 0.0627 - timedelta: 5.8832 - val_loss: 0.0340 - val_mean_absolute_error: 0.1239 - val_timedelta: 10.9175\n"
     ]
    }
   ],
   "source": [
    "history = model.fit(rtdata.train_data,\n",
    "                    validation_data=rtdata.val_data,\n",
    "                    epochs=50)"
   ]
  },
  {
   "cell_type": "markdown",
   "metadata": {},
   "source": [
    "## 3. Testing and Reporting\n",
    "\n",
    "We can create a test dataset to test our model. Additionally, we can use the reporting module to produce plots and evaluate the model.\n",
    "\n",
    "Note: the reporting module is still in progress and some functionalities might easily break."
   ]
  },
  {
   "cell_type": "code",
   "execution_count": 13,
   "metadata": {},
   "outputs": [],
   "source": [
    "# create the dataset object for test data\n",
    "\n",
    "TEST_DATAPATH = '../example_dataset/proteomTools_test.csv'\n",
    "\n",
    "test_rtdata = RetentionTimeDataset(data_source=TEST_DATAPATH,\n",
    "                              pad_length=30, batch_size=32, test=True)"
   ]
  },
  {
   "cell_type": "code",
   "execution_count": 14,
   "metadata": {},
   "outputs": [],
   "source": [
    "# use model.predict from keras directly on the testdata\n",
    "\n",
    "predictions = model.predict(test_rtdata.test_data)\n",
    "predictions = predictions.ravel()"
   ]
  },
  {
   "cell_type": "code",
   "execution_count": 15,
   "metadata": {},
   "outputs": [],
   "source": [
    "# we can denormalize the targets if we used that when creating the dataset object\n",
    "# Remeber to use the training data statistics (use the rtdata object)\n",
    "\n",
    "predictions = rtdata.denormalize_targets(predictions)"
   ]
  },
  {
   "cell_type": "code",
   "execution_count": 16,
   "metadata": {},
   "outputs": [],
   "source": [
    "# we can get the targets of a specific split to calcualte evaluation metrics against predictions\n",
    "# the get_split_targets function from the RetentionTime dataset does this\n",
    "\n",
    "test_targets = test_rtdata.get_split_targets(split=\"test\")"
   ]
  },
  {
   "cell_type": "code",
   "execution_count": 17,
   "metadata": {},
   "outputs": [
    {
     "data": {
      "text/plain": [
       "(array([160.87262216,  -9.96731383,   1.6301965 , ...,  43.60962035,\n",
       "         29.89127059,  70.90945116]),\n",
       " array([157.55948  , -13.672695 ,   1.3252258, ...,  46.356895 ,\n",
       "         29.681377 ,  74.641045 ], dtype=float32))"
      ]
     },
     "execution_count": 17,
     "metadata": {},
     "output_type": "execute_result"
    }
   ],
   "source": [
    "test_targets, predictions"
   ]
  },
  {
   "cell_type": "code",
   "execution_count": 18,
   "metadata": {},
   "outputs": [],
   "source": [
    "from dlpro.reports.RetentionTimeReport import RetentionTimeReport"
   ]
  },
  {
   "cell_type": "code",
   "execution_count": 19,
   "metadata": {},
   "outputs": [],
   "source": [
    "# create a report object by passing the history object and plot different metrics\n",
    "report = RetentionTimeReport(output_path=\"./output\", history=history)"
   ]
  },
  {
   "cell_type": "code",
   "execution_count": 20,
   "metadata": {},
   "outputs": [
    {
     "data": {
      "image/png": "[encoded data removed]",
      "text/plain": [
       "<Figure size 432x288 with 1 Axes>"
      ]
     },
     "metadata": {
      "needs_background": "light"
     },
     "output_type": "display_data"
    }
   ],
   "source": [
    "report.plot_keras_metric(\"loss\")"
   ]
  },
  {
   "cell_type": "code",
   "execution_count": 21,
   "metadata": {},
   "outputs": [
    {
     "data": {
      "image/png": "[encoded data removed]",
      "text/plain": [
       "<Figure size 432x288 with 1 Axes>"
      ]
     },
     "metadata": {
      "needs_background": "light"
     },
     "output_type": "display_data"
    }
   ],
   "source": [
    "report.plot_keras_metric(\"mean_absolute_error\")"
   ]
  },
  {
   "cell_type": "code",
   "execution_count": 22,
   "metadata": {},
   "outputs": [
    {
     "data": {
      "image/png": "[encoded data removed]",
      "text/plain": [
       "<Figure size 432x288 with 1 Axes>"
      ]
     },
     "metadata": {
      "needs_background": "light"
     },
     "output_type": "display_data"
    }
   ],
   "source": [
    "report.plot_keras_metric(\"timedelta\")"
   ]
  },
  {
   "cell_type": "code",
   "execution_count": 23,
   "metadata": {},
   "outputs": [
    {
     "data": {
      "text/plain": [
       "0.964965641181573"
      ]
     },
     "execution_count": 23,
     "metadata": {},
     "output_type": "execute_result"
    }
   ],
   "source": [
    "# calculate R2  given the targets and the predictions of the test data\n",
    "report.calculate_r2(test_targets, predictions)"
   ]
  },
  {
   "cell_type": "code",
   "execution_count": 24,
   "metadata": {},
   "outputs": [
    {
     "data": {
      "image/png": "[encoded data removed]",
      "text/plain": [
       "<Figure size 432x288 with 1 Axes>"
      ]
     },
     "metadata": {
      "needs_background": "light"
     },
     "output_type": "display_data"
    }
   ],
   "source": [
    "report.plot_highlight_data_portion(test_targets, predictions)"
   ]
  },
  {
   "cell_type": "code",
   "execution_count": 28,
   "metadata": {},
   "outputs": [
    {
     "data": {
      "image/png": "[encoded data removed]",
      "text/plain": [
       "<Figure size 432x288 with 1 Axes>"
      ]
     },
     "metadata": {
      "needs_background": "light"
     },
     "output_type": "display_data"
    }
   ],
   "source": [
    "report.plot_residuals(test_targets, predictions, xrange=(-30, 30))"
   ]
  },
  {
   "cell_type": "markdown",
   "metadata": {},
   "source": [
    "## 4. Saving and Loading Models\n",
    "\n",
    "Models can be saved normally the same Keras models would be saved. It is better to save the weights and the not the model since it makes it easier and more platform-indepdent when loading the model again. The extra step needed is to create a model object and then load the weights."
   ]
  },
  {
   "cell_type": "code",
   "execution_count": 29,
   "metadata": {},
   "outputs": [],
   "source": [
    "# save the model weights\n",
    "\n",
    "save_path = \"./output/rtmodel\"\n",
    "model.save_weights(save_path)"
   ]
  },
  {
   "cell_type": "code",
   "execution_count": 30,
   "metadata": {},
   "outputs": [
    {
     "data": {
      "text/plain": [
       "<tensorflow.python.training.tracking.util.CheckpointLoadStatus at 0x7fff219814d0>"
      ]
     },
     "execution_count": 30,
     "metadata": {},
     "output_type": "execute_result"
    }
   ],
   "source": [
    "# models can be later loaded by creating a model object and then loading the weights\n",
    "\n",
    "trained_model = RetentionTimePredictor(seq_length=30)\n",
    "trained_model.load_weights(save_path)"
   ]
  },
  {
   "cell_type": "markdown",
   "metadata": {},
   "source": [
    "We can compare the predictions to make sure that the model was loaded correctly."
   ]
  },
  {
   "cell_type": "code",
   "execution_count": 31,
   "metadata": {},
   "outputs": [],
   "source": [
    "new_predictions = trained_model.predict(test_rtdata.test_data)"
   ]
  },
  {
   "cell_type": "code",
   "execution_count": 32,
   "metadata": {},
   "outputs": [],
   "source": [
    "new_predictions = rtdata.denormalize_targets(new_predictions)"
   ]
  },
  {
   "cell_type": "code",
   "execution_count": 46,
   "metadata": {},
   "outputs": [],
   "source": [
    "new_predictions = new_predictions.ravel()"
   ]
  },
  {
   "cell_type": "code",
   "execution_count": 48,
   "metadata": {},
   "outputs": [
    {
     "data": {
      "text/plain": [
       "True"
      ]
     },
     "execution_count": 48,
     "metadata": {},
     "output_type": "execute_result"
    }
   ],
   "source": [
    "# confirm all old and new predictions are the same\n",
    "np.allclose(predictions, new_predictions)"
   ]
  },
  {
   "cell_type": "code",
   "execution_count": 49,
   "metadata": {},
   "outputs": [
    {
     "data": {
      "text/plain": [
       "(5981, 5981)"
      ]
     },
     "execution_count": 49,
     "metadata": {},
     "output_type": "execute_result"
    }
   ],
   "source": [
    "len(test_rtdata.sequences), len(predictions)"
   ]
  },
  {
   "cell_type": "code",
   "execution_count": 50,
   "metadata": {},
   "outputs": [],
   "source": [
    "results_df = pd.DataFrame({\"sequence\": test_rtdata.sequences,\n",
    "                           \"irt\": test_rtdata.targets,\n",
    "                           \"predicted_irt\": predictions})\n",
    "\n",
    "results_df.to_csv(\"./output/predictions_irt.csv\")"
   ]
  }
 ],
 "metadata": {
  "kernelspec": {
   "display_name": "Python 3",
   "language": "python",
   "name": "python3"
  },
  "language_info": {
   "codemirror_mode": {
    "name": "ipython",
    "version": 3
   },
   "file_extension": ".py",
   "mimetype": "text/x-python",
   "name": "python",
   "nbconvert_exporter": "python",
   "pygments_lexer": "ipython3",
   "version": "3.7.9"
  }
 },
 "nbformat": 4,
 "nbformat_minor": 4
}