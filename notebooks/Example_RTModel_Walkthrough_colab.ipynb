{
 "cells": [
  {
   "cell_type": "markdown",
   "metadata": {
    "id": "7YWkUVjVr7qJ"
   },
   "source": [
    "# Retention Time Preidiction \n",
    "\n",
    "This notebook is prepared to be run in Google [Colaboratory](https://colab.research.google.com/). In order to train the model faster, please change the runtime of Colab to use Hardware Accelerator, either GPU or TPU."
   ]
  },
  {
   "cell_type": "markdown",
   "metadata": {
    "id": "S3DlTOq3r7qM"
   },
   "source": [
    "This notebook presents a short walkthrough the process of reading a dataset and training a model for retention time prediction. The dataset is an example dataset extracted from a ProteomTools dataset generated in the **Chair of Bioanalytics** at the **Technical University of Munich**.\n",
    "\n",
    "The framework being used is a custom wrapper on top of Keras/TensorFlow. The working name of the package is for now `mlomix`."
   ]
  },
  {
   "cell_type": "code",
   "execution_count": 1,
   "metadata": {
    "colab": {
     "base_uri": "https://localhost:8080/"
    },
    "id": "aO-69zbKsGey",
    "outputId": "c2064411-9f80-47e6-ca5b-312d547e0f6a",
    "scrolled": true
   },
   "outputs": [
    {
     "name": "stderr",
     "output_type": "stream",
     "text": [
      "  ERROR: Command errored out with exit status 128:\n",
      "   command: git clone -q https://github.com/orgs/wilhelm-lab/mlomix 'C:\\Users\\OMARSH~1\\AppData\\Local\\Temp\\pip-req-build-7zjdsjnq'\n",
      "       cwd: None\n",
      "  Complete output (2 lines):\n",
      "  remote: Not Found\n",
      "  fatal: repository 'https://github.com/orgs/wilhelm-lab/mlomix/' not found\n",
      "  ----------------------------------------\n",
      "ERROR: Command errored out with exit status 128: git clone -q https://github.com/orgs/wilhelm-lab/mlomix 'C:\\Users\\OMARSH~1\\AppData\\Local\\Temp\\pip-req-build-7zjdsjnq' Check the logs for full command output.\n"
     ]
    }
   ],
   "source": [
    "# install the mlomix package in the current environment using pip\n",
    "\n",
    "!python -m pip install -q git+https://github.com/orgs/wilhelm-lab/mlomix"
   ]
  },
  {
   "cell_type": "markdown",
   "metadata": {
    "id": "Mo7H9qzWr7qN"
   },
   "source": [
    "The available modules in the framework are as follows:"
   ]
  },
  {
   "cell_type": "code",
   "execution_count": 19,
   "metadata": {
    "colab": {
     "base_uri": "https://localhost:8080/"
    },
    "id": "l0CS0tFur7qN",
    "outputId": "664e0978-980a-4254-90d1-61e9f1603234"
   },
   "outputs": [
    {
     "name": "stdout",
     "output_type": "stream",
     "text": [
      "['constants', 'data', 'eval', 'layers', 'models', 'pipelines', 'reports', 'utils']\n"
     ]
    }
   ],
   "source": [
    "\n",
    "import numpy as np\n",
    "import pandas as pd\n",
    "import mlomix\n",
    "from mlomix import constants, data, eval, layers, models, pipelines, reports, utils\n",
    "print([x for x in dir(mlomix) if not x.startswith(\"_\")])"
   ]
  },
  {
   "cell_type": "markdown",
   "metadata": {
    "id": "JsgPZb_Mr7qP"
   },
   "source": [
    "- `constants`: constants to be used in the framework (e.g. Aminoacid alphabet mapping)\n",
    "- `data`:  classes for representing dataset, wrappers around TensorFlow Dataset\n",
    "- `eval`: custom evaluation metrics implemented in Keras/TF to work as `metrics` for model training\n",
    "- `layers`: custom layer implementation required for the different models\n",
    "- `models`: different model implementations for Retention Time Prediction\n",
    "- `pipelines`: complete pipelines to run a task (e.g. Retention Time prediction)\n",
    "- `utils`: helper modules\n",
    "\n",
    "**Note**: reports and pipelines are work-in-progress, some funtionalities are not complete."
   ]
  },
  {
   "cell_type": "markdown",
   "metadata": {
    "id": "41qXroyKr7qP"
   },
   "source": [
    "## 1. Load Data\n",
    "\n",
    "We can import the dataset class and create an object of type `RetentionTimeDataset`. This object wraps around TensorFlow dataset objects for training+validation or for testing. This can be specified by the arguments `val_ratio` and `test`."
   ]
  },
  {
   "cell_type": "code",
   "execution_count": 20,
   "metadata": {
    "id": "RiXz_epEr7qQ"
   },
   "outputs": [],
   "source": [
    "from dlpro.data import RetentionTimeDataset"
   ]
  },
  {
   "cell_type": "code",
   "execution_count": 21,
   "metadata": {
    "id": "lzNXJ-s6r7qQ"
   },
   "outputs": [],
   "source": [
    "TRAIN_DATAPATH = 'https://raw.githubusercontent.com/omsh/dlpro/develop/example_dataset/proteomTools_train_val.csv'\n",
    "\n",
    "rtdata = RetentionTimeDataset(data_source=TRAIN_DATAPATH,\n",
    "                              seq_length=30, batch_size=64, val_ratio=0.2, test=False)"
   ]
  },
  {
   "cell_type": "markdown",
   "metadata": {
    "id": "_UUzvcHGr7qR"
   },
   "source": [
    "Now we have an RT dataset that can be used directly with standard or custom `Keras` models. This wrapper contains the splits we chose when creating it. In our case, they are training and validation splits. To get the TF Dataset, we call the attributes `.train_data` and `.val_data`. The length is now in batches (i.e. `total examples = batch_size x len`)"
   ]
  },
  {
   "cell_type": "code",
   "execution_count": 22,
   "metadata": {
    "colab": {
     "base_uri": "https://localhost:8080/"
    },
    "id": "y1l6YedCr7qS",
    "outputId": "72576b1a-698d-4632-c398-9e7d1bf8942e"
   },
   "outputs": [
    {
     "data": {
      "text/plain": [
       "424"
      ]
     },
     "execution_count": 22,
     "metadata": {},
     "output_type": "execute_result"
    }
   ],
   "source": [
    "len(rtdata.train_data)"
   ]
  },
  {
   "cell_type": "code",
   "execution_count": 23,
   "metadata": {
    "colab": {
     "base_uri": "https://localhost:8080/"
    },
    "id": "uEnVWjtRr7qT",
    "outputId": "4a8de4e3-2857-4c6c-d939-c79d72e8313a"
   },
   "outputs": [
    {
     "data": {
      "text/plain": [
       "106"
      ]
     },
     "execution_count": 23,
     "metadata": {},
     "output_type": "execute_result"
    }
   ],
   "source": [
    "len(rtdata.val_data)"
   ]
  },
  {
   "cell_type": "markdown",
   "metadata": {
    "id": "oWeVi0iar7qT"
   },
   "source": [
    "## 2. Model\n",
    "\n",
    "We can now create the model. We will use a simple Prediction with a conv1D encoder. It has the default working arguments, but most of the parameters can be customized.\n",
    "\n",
    "**Note**: Important is to ensure that the padding length used for the dataset object is equal to the sequence length passed to the model."
   ]
  },
  {
   "cell_type": "code",
   "execution_count": 24,
   "metadata": {
    "id": "Q8SGTvfRr7qT"
   },
   "outputs": [],
   "source": [
    "from dlpro.models import RetentionTimePredictor"
   ]
  },
  {
   "cell_type": "code",
   "execution_count": 25,
   "metadata": {
    "id": "ZqrsF6APr7qU"
   },
   "outputs": [],
   "source": [
    "model = RetentionTimePredictor(seq_length=30)"
   ]
  },
  {
   "cell_type": "markdown",
   "metadata": {
    "id": "adD60VwQr7qU"
   },
   "source": [
    "## 3. Training\n",
    "\n",
    "We can then train the model like a standard Keras model. The training parameters here are from Prosit, but other optimizer parameters can be used.  "
   ]
  },
  {
   "cell_type": "code",
   "execution_count": 26,
   "metadata": {
    "id": "IkPIHuWEr7qU"
   },
   "outputs": [],
   "source": [
    "#imports\n",
    "\n",
    "import tensorflow as tf\n",
    "from mlomix.eval import TimeDeltaMetric"
   ]
  },
  {
   "cell_type": "code",
   "execution_count": 27,
   "metadata": {
    "colab": {
     "base_uri": "https://localhost:8080/"
    },
    "id": "xLy32wk7r7qU",
    "outputId": "34f9961e-1abc-4f8f-904c-7aac4a404241"
   },
   "outputs": [
    {
     "name": "stderr",
     "output_type": "stream",
     "text": [
      "/usr/local/lib/python3.7/dist-packages/keras/optimizer_v2/optimizer_v2.py:356: UserWarning: The `lr` argument is deprecated, use `learning_rate` instead.\n",
      "  \"The `lr` argument is deprecated, use `learning_rate` instead.\")\n"
     ]
    }
   ],
   "source": [
    "# create the optimizer object\n",
    "optimizer = tf.keras.optimizers.Adam(learning_rate=0.0001,decay=1e-7)\n",
    "\n",
    "# compile the model  with the optimizer and the metrics we want to use, we can add our custom timedelta metric\n",
    "\n",
    "model.compile(optimizer=optimizer, \n",
    "              loss='mse',\n",
    "              metrics=['mean_absolute_error', TimeDeltaMetric()])"
   ]
  },
  {
   "cell_type": "markdown",
   "metadata": {
    "id": "wtEUn_vdr7qV"
   },
   "source": [
    "We store the result of training so that we can explore the metrics and the losses later. We specify the number of epochs for training and pass the training and validation data as previously described."
   ]
  },
  {
   "cell_type": "code",
   "execution_count": 28,
   "metadata": {
    "colab": {
     "base_uri": "https://localhost:8080/"
    },
    "id": "E14EcoYTr7qV",
    "outputId": "9c88b2d5-e1cb-46b4-e263-73468e222554",
    "scrolled": true
   },
   "outputs": [
    {
     "name": "stdout",
     "output_type": "stream",
     "text": [
      "Epoch 1/50\n",
      "424/424 [==============================] - 42s 28ms/step - loss: 0.2831 - mean_absolute_error: 0.3698 - timedelta: 34.2127 - val_loss: 0.0712 - val_mean_absolute_error: 0.1940 - val_timedelta: 17.0846\n",
      "Epoch 2/50\n",
      "424/424 [==============================] - 11s 27ms/step - loss: 0.0629 - mean_absolute_error: 0.1834 - timedelta: 18.0882 - val_loss: 0.0703 - val_mean_absolute_error: 0.1898 - val_timedelta: 18.3217\n",
      "Epoch 3/50\n",
      "424/424 [==============================] - 11s 27ms/step - loss: 0.0535 - mean_absolute_error: 0.1666 - timedelta: 16.3955 - val_loss: 0.0657 - val_mean_absolute_error: 0.1841 - val_timedelta: 18.3049\n",
      "Epoch 4/50\n",
      "424/424 [==============================] - 11s 27ms/step - loss: 0.0478 - mean_absolute_error: 0.1558 - timedelta: 15.4394 - val_loss: 0.0603 - val_mean_absolute_error: 0.1762 - val_timedelta: 17.6424\n",
      "Epoch 5/50\n",
      "424/424 [==============================] - 12s 27ms/step - loss: 0.0439 - mean_absolute_error: 0.1482 - timedelta: 14.5442 - val_loss: 0.0555 - val_mean_absolute_error: 0.1683 - val_timedelta: 16.7599\n",
      "Epoch 6/50\n",
      "424/424 [==============================] - 12s 28ms/step - loss: 0.0408 - mean_absolute_error: 0.1419 - timedelta: 13.7315 - val_loss: 0.0500 - val_mean_absolute_error: 0.1579 - val_timedelta: 15.5716\n",
      "Epoch 7/50\n",
      "424/424 [==============================] - 12s 28ms/step - loss: 0.0383 - mean_absolute_error: 0.1366 - timedelta: 13.1598 - val_loss: 0.0461 - val_mean_absolute_error: 0.1502 - val_timedelta: 14.6803\n",
      "Epoch 8/50\n",
      "424/424 [==============================] - 12s 28ms/step - loss: 0.0363 - mean_absolute_error: 0.1321 - timedelta: 12.6814 - val_loss: 0.0439 - val_mean_absolute_error: 0.1458 - val_timedelta: 14.1313\n",
      "Epoch 9/50\n",
      "424/424 [==============================] - 12s 27ms/step - loss: 0.0347 - mean_absolute_error: 0.1283 - timedelta: 12.2724 - val_loss: 0.0417 - val_mean_absolute_error: 0.1409 - val_timedelta: 13.4836\n",
      "Epoch 10/50\n",
      "424/424 [==============================] - 12s 28ms/step - loss: 0.0333 - mean_absolute_error: 0.1251 - timedelta: 12.0003 - val_loss: 0.0400 - val_mean_absolute_error: 0.1372 - val_timedelta: 13.0251\n",
      "Epoch 11/50\n",
      "424/424 [==============================] - 12s 27ms/step - loss: 0.0321 - mean_absolute_error: 0.1224 - timedelta: 11.7484 - val_loss: 0.0388 - val_mean_absolute_error: 0.1344 - val_timedelta: 12.6673\n",
      "Epoch 12/50\n",
      "424/424 [==============================] - 12s 28ms/step - loss: 0.0311 - mean_absolute_error: 0.1199 - timedelta: 11.5333 - val_loss: 0.0376 - val_mean_absolute_error: 0.1315 - val_timedelta: 12.2966\n",
      "Epoch 13/50\n",
      "424/424 [==============================] - 12s 28ms/step - loss: 0.0301 - mean_absolute_error: 0.1175 - timedelta: 11.2899 - val_loss: 0.0373 - val_mean_absolute_error: 0.1311 - val_timedelta: 12.2285\n",
      "Epoch 14/50\n",
      "424/424 [==============================] - 12s 28ms/step - loss: 0.0291 - mean_absolute_error: 0.1153 - timedelta: 11.0470 - val_loss: 0.0371 - val_mean_absolute_error: 0.1308 - val_timedelta: 12.2091\n",
      "Epoch 15/50\n",
      "424/424 [==============================] - 12s 28ms/step - loss: 0.0283 - mean_absolute_error: 0.1132 - timedelta: 10.8637 - val_loss: 0.0367 - val_mean_absolute_error: 0.1300 - val_timedelta: 12.0864\n",
      "Epoch 16/50\n",
      "424/424 [==============================] - 12s 28ms/step - loss: 0.0274 - mean_absolute_error: 0.1112 - timedelta: 10.6645 - val_loss: 0.0364 - val_mean_absolute_error: 0.1291 - val_timedelta: 11.9819\n",
      "Epoch 17/50\n",
      "424/424 [==============================] - 12s 28ms/step - loss: 0.0266 - mean_absolute_error: 0.1092 - timedelta: 10.4761 - val_loss: 0.0357 - val_mean_absolute_error: 0.1274 - val_timedelta: 11.7815\n",
      "Epoch 18/50\n",
      "424/424 [==============================] - 12s 28ms/step - loss: 0.0257 - mean_absolute_error: 0.1072 - timedelta: 10.2667 - val_loss: 0.0350 - val_mean_absolute_error: 0.1253 - val_timedelta: 11.5317\n",
      "Epoch 19/50\n",
      "424/424 [==============================] - 12s 28ms/step - loss: 0.0250 - mean_absolute_error: 0.1053 - timedelta: 10.1025 - val_loss: 0.0344 - val_mean_absolute_error: 0.1239 - val_timedelta: 11.3291\n",
      "Epoch 20/50\n",
      "424/424 [==============================] - 12s 27ms/step - loss: 0.0242 - mean_absolute_error: 0.1034 - timedelta: 9.9074 - val_loss: 0.0336 - val_mean_absolute_error: 0.1218 - val_timedelta: 11.0223\n",
      "Epoch 21/50\n",
      "424/424 [==============================] - 12s 28ms/step - loss: 0.0235 - mean_absolute_error: 0.1016 - timedelta: 9.7542 - val_loss: 0.0328 - val_mean_absolute_error: 0.1200 - val_timedelta: 10.6537\n",
      "Epoch 22/50\n",
      "424/424 [==============================] - 12s 27ms/step - loss: 0.0228 - mean_absolute_error: 0.0999 - timedelta: 9.5624 - val_loss: 0.0324 - val_mean_absolute_error: 0.1188 - val_timedelta: 10.3991\n",
      "Epoch 23/50\n",
      "424/424 [==============================] - 12s 27ms/step - loss: 0.0221 - mean_absolute_error: 0.0984 - timedelta: 9.4157 - val_loss: 0.0321 - val_mean_absolute_error: 0.1182 - val_timedelta: 10.2698\n",
      "Epoch 24/50\n",
      "424/424 [==============================] - 12s 28ms/step - loss: 0.0214 - mean_absolute_error: 0.0968 - timedelta: 9.2694 - val_loss: 0.0318 - val_mean_absolute_error: 0.1177 - val_timedelta: 10.1319\n",
      "Epoch 25/50\n",
      "424/424 [==============================] - 12s 27ms/step - loss: 0.0208 - mean_absolute_error: 0.0952 - timedelta: 9.1301 - val_loss: 0.0317 - val_mean_absolute_error: 0.1175 - val_timedelta: 10.1057\n",
      "Epoch 26/50\n",
      "424/424 [==============================] - 12s 28ms/step - loss: 0.0202 - mean_absolute_error: 0.0938 - timedelta: 8.9628 - val_loss: 0.0318 - val_mean_absolute_error: 0.1178 - val_timedelta: 10.1145\n",
      "Epoch 27/50\n",
      "424/424 [==============================] - 11s 27ms/step - loss: 0.0195 - mean_absolute_error: 0.0923 - timedelta: 8.8299 - val_loss: 0.0320 - val_mean_absolute_error: 0.1184 - val_timedelta: 10.2421\n",
      "Epoch 28/50\n",
      "424/424 [==============================] - 12s 27ms/step - loss: 0.0190 - mean_absolute_error: 0.0909 - timedelta: 8.7097 - val_loss: 0.0324 - val_mean_absolute_error: 0.1197 - val_timedelta: 10.4532\n",
      "Epoch 29/50\n",
      "424/424 [==============================] - 12s 27ms/step - loss: 0.0184 - mean_absolute_error: 0.0897 - timedelta: 8.5979 - val_loss: 0.0336 - val_mean_absolute_error: 0.1234 - val_timedelta: 11.0079\n",
      "Epoch 30/50\n",
      "424/424 [==============================] - 12s 28ms/step - loss: 0.0180 - mean_absolute_error: 0.0888 - timedelta: 8.4994 - val_loss: 0.0365 - val_mean_absolute_error: 0.1319 - val_timedelta: 12.1448\n",
      "Epoch 31/50\n",
      "424/424 [==============================] - 12s 27ms/step - loss: 0.0178 - mean_absolute_error: 0.0889 - timedelta: 8.4488 - val_loss: 0.0449 - val_mean_absolute_error: 0.1556 - val_timedelta: 14.9623\n",
      "Epoch 32/50\n",
      "424/424 [==============================] - 12s 27ms/step - loss: 0.0208 - mean_absolute_error: 0.1011 - timedelta: 9.6919 - val_loss: 0.0418 - val_mean_absolute_error: 0.1470 - val_timedelta: 11.3920\n",
      "Epoch 33/50\n",
      "424/424 [==============================] - 11s 27ms/step - loss: 0.0202 - mean_absolute_error: 0.0986 - timedelta: 9.5407 - val_loss: 0.0351 - val_mean_absolute_error: 0.1298 - val_timedelta: 10.1113\n",
      "Epoch 34/50\n",
      "424/424 [==============================] - 12s 28ms/step - loss: 0.0187 - mean_absolute_error: 0.0944 - timedelta: 8.9309 - val_loss: 0.0359 - val_mean_absolute_error: 0.1326 - val_timedelta: 10.3777\n",
      "Epoch 35/50\n",
      "424/424 [==============================] - 12s 27ms/step - loss: 0.0178 - mean_absolute_error: 0.0916 - timedelta: 8.6508 - val_loss: 0.0358 - val_mean_absolute_error: 0.1320 - val_timedelta: 10.3978\n",
      "Epoch 36/50\n",
      "424/424 [==============================] - 12s 27ms/step - loss: 0.0170 - mean_absolute_error: 0.0892 - timedelta: 8.4464 - val_loss: 0.0357 - val_mean_absolute_error: 0.1315 - val_timedelta: 10.4022\n",
      "Epoch 37/50\n",
      "424/424 [==============================] - 11s 27ms/step - loss: 0.0163 - mean_absolute_error: 0.0871 - timedelta: 8.2819 - val_loss: 0.0357 - val_mean_absolute_error: 0.1312 - val_timedelta: 10.4159\n",
      "Epoch 38/50\n",
      "424/424 [==============================] - 12s 27ms/step - loss: 0.0156 - mean_absolute_error: 0.0848 - timedelta: 8.1061 - val_loss: 0.0357 - val_mean_absolute_error: 0.1312 - val_timedelta: 10.4642\n",
      "Epoch 39/50\n",
      "424/424 [==============================] - 12s 27ms/step - loss: 0.0150 - mean_absolute_error: 0.0831 - timedelta: 7.9610 - val_loss: 0.0360 - val_mean_absolute_error: 0.1318 - val_timedelta: 10.5391\n",
      "Epoch 40/50\n",
      "424/424 [==============================] - 12s 27ms/step - loss: 0.0144 - mean_absolute_error: 0.0813 - timedelta: 7.8243 - val_loss: 0.0361 - val_mean_absolute_error: 0.1320 - val_timedelta: 10.5985\n",
      "Epoch 41/50\n",
      "424/424 [==============================] - 12s 28ms/step - loss: 0.0138 - mean_absolute_error: 0.0795 - timedelta: 7.6486 - val_loss: 0.0364 - val_mean_absolute_error: 0.1323 - val_timedelta: 10.6558\n",
      "Epoch 42/50\n",
      "424/424 [==============================] - 12s 27ms/step - loss: 0.0132 - mean_absolute_error: 0.0777 - timedelta: 7.4551 - val_loss: 0.0366 - val_mean_absolute_error: 0.1326 - val_timedelta: 10.6922\n",
      "Epoch 43/50\n",
      "424/424 [==============================] - 11s 27ms/step - loss: 0.0126 - mean_absolute_error: 0.0758 - timedelta: 7.3015 - val_loss: 0.0365 - val_mean_absolute_error: 0.1321 - val_timedelta: 10.7601\n",
      "Epoch 44/50\n",
      "424/424 [==============================] - 12s 27ms/step - loss: 0.0120 - mean_absolute_error: 0.0741 - timedelta: 7.1235 - val_loss: 0.0367 - val_mean_absolute_error: 0.1323 - val_timedelta: 10.8233\n",
      "Epoch 45/50\n",
      "424/424 [==============================] - 12s 28ms/step - loss: 0.0114 - mean_absolute_error: 0.0725 - timedelta: 6.9362 - val_loss: 0.0368 - val_mean_absolute_error: 0.1323 - val_timedelta: 10.8622\n",
      "Epoch 46/50\n",
      "424/424 [==============================] - 12s 28ms/step - loss: 0.0109 - mean_absolute_error: 0.0709 - timedelta: 6.7870 - val_loss: 0.0371 - val_mean_absolute_error: 0.1329 - val_timedelta: 10.9227\n",
      "Epoch 47/50\n",
      "424/424 [==============================] - 12s 27ms/step - loss: 0.0104 - mean_absolute_error: 0.0695 - timedelta: 6.6112 - val_loss: 0.0378 - val_mean_absolute_error: 0.1345 - val_timedelta: 11.0233\n",
      "Epoch 48/50\n",
      "424/424 [==============================] - 11s 27ms/step - loss: 0.0100 - mean_absolute_error: 0.0686 - timedelta: 6.5399 - val_loss: 0.0394 - val_mean_absolute_error: 0.1387 - val_timedelta: 11.2229\n",
      "Epoch 49/50\n",
      "424/424 [==============================] - 12s 27ms/step - loss: 0.0098 - mean_absolute_error: 0.0685 - timedelta: 6.5682 - val_loss: 0.0421 - val_mean_absolute_error: 0.1457 - val_timedelta: 11.6387\n",
      "Epoch 50/50\n",
      "424/424 [==============================] - 12s 27ms/step - loss: 0.0110 - mean_absolute_error: 0.0747 - timedelta: 7.1530 - val_loss: 0.0579 - val_mean_absolute_error: 0.1867 - val_timedelta: 14.5690\n"
     ]
    }
   ],
   "source": [
    "history = model.fit(rtdata.train_data,\n",
    "                    validation_data=rtdata.val_data,\n",
    "                    epochs=20)"
   ]
  },
  {
   "cell_type": "markdown",
   "metadata": {
    "id": "oukZ4AyMr7qV"
   },
   "source": [
    "## 3. Testing and Reporting\n",
    "\n",
    "We can create a test dataset to test our model. Additionally, we can use the reporting module to produce plots and evaluate the model.\n",
    "\n",
    "Note: the reporting module is still in progress and some functionalities might easily break."
   ]
  },
  {
   "cell_type": "code",
   "execution_count": 30,
   "metadata": {
    "id": "ngz4zlnwr7qV"
   },
   "outputs": [],
   "source": [
    "# create the dataset object for test data\n",
    "\n",
    "TEST_DATAPATH = 'https://raw.githubusercontent.com/omsh/dlpro/develop/example_dataset/proteomTools_test.csv'\n",
    "\n",
    "test_rtdata = RetentionTimeDataset(data_source=TEST_DATAPATH,\n",
    "                              pad_length=30, batch_size=32, test=True)"
   ]
  },
  {
   "cell_type": "code",
   "execution_count": 31,
   "metadata": {
    "id": "RrvR8Cl3r7qV"
   },
   "outputs": [],
   "source": [
    "# use model.predict from keras directly on the testdata\n",
    "\n",
    "predictions = model.predict(test_rtdata.test_data)\n",
    "predictions = predictions.ravel()"
   ]
  },
  {
   "cell_type": "code",
   "execution_count": 33,
   "metadata": {
    "id": "wKk7MD7Wr7qW"
   },
   "outputs": [],
   "source": [
    "# we can get the targets of a specific split to calcualte evaluation metrics against predictions\n",
    "# the get_split_targets function from the RetentionTime dataset does this\n",
    "\n",
    "test_targets = test_rtdata.get_split_targets(split=\"test\")"
   ]
  },
  {
   "cell_type": "code",
   "execution_count": 34,
   "metadata": {
    "colab": {
     "base_uri": "https://localhost:8080/"
    },
    "id": "6UnLZTZ9r7qW",
    "outputId": "efbf06be-2c80-45c1-de76-ddb38dc14702"
   },
   "outputs": [
    {
     "data": {
      "text/plain": [
       "(array([160.87262216,  -9.96731383,   1.6301965 , ...,  43.60962035,\n",
       "         29.89127059,  70.90945116]),\n",
       " array([165.56522  ,  -9.868313 ,   6.9990273, ...,  53.451225 ,\n",
       "         30.948063 ,  79.56687  ], dtype=float32))"
      ]
     },
     "execution_count": 34,
     "metadata": {},
     "output_type": "execute_result"
    }
   ],
   "source": [
    "test_targets, predictions"
   ]
  },
  {
   "cell_type": "code",
   "execution_count": 35,
   "metadata": {
    "id": "4kzCh0gwr7qX"
   },
   "outputs": [],
   "source": [
    "from mlomix.reports import RetentionTimeReport"
   ]
  },
  {
   "cell_type": "code",
   "execution_count": 36,
   "metadata": {
    "id": "_7LJZ3TLr7qX"
   },
   "outputs": [],
   "source": [
    "# create a report object by passing the history object and plot different metrics\n",
    "report = RetentionTimeReport(output_path=\"./output\", history=history)"
   ]
  },
  {
   "cell_type": "code",
   "execution_count": 37,
   "metadata": {
    "colab": {
     "base_uri": "https://localhost:8080/",
     "height": 295
    },
    "id": "1iI-_Nufr7qX",
    "outputId": "25baa9f5-1d5b-47ed-d75a-def6a55e43bc"
   },
   "outputs": [
    {
     "data": {
      "image/png": "[encoded data removed]",
      "text/plain": [
       "<Figure size 432x288 with 1 Axes>"
      ]
     },
     "metadata": {
      "needs_background": "light"
     },
     "output_type": "display_data"
    }
   ],
   "source": [
    "report.plot_keras_metric(\"loss\")"
   ]
  },
  {
   "cell_type": "code",
   "execution_count": 38,
   "metadata": {
    "colab": {
     "base_uri": "https://localhost:8080/",
     "height": 295
    },
    "id": "jt05Xrq6r7qX",
    "outputId": "19e61c3b-2959-4c81-86dd-8bb45a6d4020"
   },
   "outputs": [
    {
     "data": {
      "image/png": "[encoded data removed]",
      "text/plain": [
       "<Figure size 432x288 with 1 Axes>"
      ]
     },
     "metadata": {
      "needs_background": "light"
     },
     "output_type": "display_data"
    }
   ],
   "source": [
    "report.plot_keras_metric(\"mean_absolute_error\")"
   ]
  },
  {
   "cell_type": "code",
   "execution_count": 39,
   "metadata": {
    "colab": {
     "base_uri": "https://localhost:8080/",
     "height": 295
    },
    "id": "0GBkd9WSr7qX",
    "outputId": "5055d608-9043-40a0-9735-a34c76964cb4"
   },
   "outputs": [
    {
     "data": {
      "image/png": "[encoded data removed]",
      "text/plain": [
       "<Figure size 432x288 with 1 Axes>"
      ]
     },
     "metadata": {
      "needs_background": "light"
     },
     "output_type": "display_data"
    }
   ],
   "source": [
    "report.plot_keras_metric(\"timedelta\")"
   ]
  },
  {
   "cell_type": "code",
   "execution_count": 40,
   "metadata": {
    "colab": {
     "base_uri": "https://localhost:8080/"
    },
    "id": "hABgy_pYr7qY",
    "outputId": "d264236f-9558-4802-fae6-c6a9102892d2"
   },
   "outputs": [
    {
     "data": {
      "text/plain": [
       "0.9421163603238348"
      ]
     },
     "execution_count": 40,
     "metadata": {},
     "output_type": "execute_result"
    }
   ],
   "source": [
    "# calculate R2  given the targets and the predictions of the test data\n",
    "report.calculate_r2(test_targets, predictions)"
   ]
  },
  {
   "cell_type": "code",
   "execution_count": 41,
   "metadata": {
    "colab": {
     "base_uri": "https://localhost:8080/",
     "height": 268
    },
    "id": "Tj_33PTbr7qY",
    "outputId": "04f42fd2-0c4c-495f-daa0-e03f69ed7d4d"
   },
   "outputs": [
    {
     "data": {
      "image/png": "[encoded data removed]",
      "text/plain": [
       "<Figure size 432x288 with 1 Axes>"
      ]
     },
     "metadata": {
      "needs_background": "light"
     },
     "output_type": "display_data"
    }
   ],
   "source": [
    "report.plot_highlight_data_portion(test_targets, predictions)"
   ]
  },
  {
   "cell_type": "code",
   "execution_count": 42,
   "metadata": {
    "colab": {
     "base_uri": "https://localhost:8080/",
     "height": 295
    },
    "id": "VnNJJYHsr7qY",
    "outputId": "455ad8b5-167b-4ff9-ba7f-920d88dcc5ab"
   },
   "outputs": [
    {
     "data": {
      "image/png": "[encoded data removed]",
      "text/plain": [
       "<Figure size 432x288 with 1 Axes>"
      ]
     },
     "metadata": {
      "needs_background": "light"
     },
     "output_type": "display_data"
    }
   ],
   "source": [
    "report.plot_residuals(test_targets, predictions, xrange=(-30, 30))"
   ]
  },
  {
   "cell_type": "markdown",
   "metadata": {
    "id": "O1uYK1ZWr7qZ"
   },
   "source": [
    "## 4. Saving and Loading Models\n",
    "\n",
    "Models can be saved normally the same Keras models would be saved. It is better to save the weights and the not the model since it makes it easier and more platform-indepdent when loading the model again. The extra step needed is to create a model object and then load the weights."
   ]
  },
  {
   "cell_type": "code",
   "execution_count": 43,
   "metadata": {
    "id": "MnnLsOPVr7qZ"
   },
   "outputs": [],
   "source": [
    "# save the model weights\n",
    "\n",
    "save_path = \"./output/rtmodel\"\n",
    "model.save_weights(save_path)"
   ]
  },
  {
   "cell_type": "code",
   "execution_count": 44,
   "metadata": {
    "colab": {
     "base_uri": "https://localhost:8080/"
    },
    "id": "nYVNZBd-r7qZ",
    "outputId": "9f3f72f8-f852-46e3-ce04-bc574e4c2b6f"
   },
   "outputs": [
    {
     "data": {
      "text/plain": [
       "<tensorflow.python.training.tracking.util.CheckpointLoadStatus at 0x7fddccfa8c90>"
      ]
     },
     "execution_count": 44,
     "metadata": {},
     "output_type": "execute_result"
    }
   ],
   "source": [
    "# models can be later loaded by creating a model object and then loading the weights\n",
    "\n",
    "trained_model = RetentionTimePredictor(seq_length=30)\n",
    "trained_model.load_weights(save_path)"
   ]
  },
  {
   "cell_type": "markdown",
   "metadata": {
    "id": "SkUf8vtOr7qZ"
   },
   "source": [
    "We can compare the predictions to make sure that the model was loaded correctly."
   ]
  },
  {
   "cell_type": "code",
   "execution_count": 45,
   "metadata": {
    "id": "p2ifAmfxr7qZ"
   },
   "outputs": [],
   "source": [
    "new_predictions = trained_model.predict(test_rtdata.test_data)"
   ]
  },
  {
   "cell_type": "code",
   "execution_count": 47,
   "metadata": {
    "id": "Z7lPgkKBr7qZ"
   },
   "outputs": [],
   "source": [
    "new_predictions = new_predictions.ravel()"
   ]
  },
  {
   "cell_type": "code",
   "execution_count": 48,
   "metadata": {
    "colab": {
     "base_uri": "https://localhost:8080/"
    },
    "id": "ifUnCpdAr7qa",
    "outputId": "d1ef7aa7-9eeb-4567-c0a6-628b5440ea19"
   },
   "outputs": [
    {
     "data": {
      "text/plain": [
       "True"
      ]
     },
     "execution_count": 48,
     "metadata": {},
     "output_type": "execute_result"
    }
   ],
   "source": [
    "# confirm all old and new predictions are the same\n",
    "np.allclose(predictions, new_predictions)"
   ]
  },
  {
   "cell_type": "code",
   "execution_count": 50,
   "metadata": {
    "id": "d3yrG9l3r7qa"
   },
   "outputs": [],
   "source": [
    "results_df = pd.DataFrame({\"sequence\": test_rtdata.sequences,\n",
    "                           \"irt\": test_rtdata.targets,\n",
    "                           \"predicted_irt\": predictions})\n",
    "\n",
    "results_df.to_csv(\"./output/predictions_irt.csv\")"
   ]
  }
 ],
 "metadata": {
  "accelerator": "GPU",
  "colab": {
   "name": "Example_RTModel_Walkthrough.ipynb",
   "provenance": []
  },
  "kernelspec": {
   "display_name": "Python 3",
   "language": "python",
   "name": "python3"
  },
  "language_info": {
   "codemirror_mode": {
    "name": "ipython",
    "version": 3
   },
   "file_extension": ".py",
   "mimetype": "text/x-python",
   "name": "python",
   "nbconvert_exporter": "python",
   "pygments_lexer": "ipython3",
   "version": "3.7.7"
  }
 },
 "nbformat": 4,
 "nbformat_minor": 1
}
